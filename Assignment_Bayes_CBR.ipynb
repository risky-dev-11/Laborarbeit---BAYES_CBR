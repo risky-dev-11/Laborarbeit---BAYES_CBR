{
 "cells": [
  {
   "cell_type": "markdown",
   "id": "b9bbdc3a-3e92-4cb4-93e0-2818307d0e0f",
   "metadata": {},
   "source": [
    "# Laborarbeit Künstliche Intelligenz\n",
    "\n",
    "## Thema :  Bayes Netze und Case Based Reasoning\n",
    "\n",
    "### Namen der Studierenden: \n",
    "\n",
    "(Hinweis: Es sind Namen anzugeben und keine Matrikelnummern. Matrikelnummern werden ausschließlich bei Klausuren zur Anonymisierung verwendet)"
   ]
  },
  {
   "cell_type": "code",
   "execution_count": null,
   "id": "6ee7ee7b-c97c-4bbb-b0b6-84c2d7ed5ee9",
   "metadata": {},
   "outputs": [],
   "source": [
    "import pandas as pd\n",
    "import matplotlib.pyplot as plt\n",
    "import seaborn as sns\n",
    "\n",
    "# Einlesen der CSV-Datei\n",
    "file_path = './bikedata/sampled_data_<ihre_Nummer>.csv'   # Einsetzen!\n",
    "data = pd.read_csv(file_path, sep=\";\", decimal=\",\")"
   ]
  },
  {
   "cell_type": "markdown",
   "id": "aa538165-c1d4-44ea-942e-ad17d6199616",
   "metadata": {},
   "source": [
    "#### Etwas Analyse vorab ... gerne erweitern"
   ]
  },
  {
   "cell_type": "code",
   "execution_count": null,
   "id": "38e10bee-7161-48f4-849d-c220d9412483",
   "metadata": {},
   "outputs": [],
   "source": [
    "\n",
    "# Numerische Attribute - einzelne Boxplots\n",
    "numeric_columns = data.select_dtypes(include='number').columns\n",
    "\n",
    "for column in numeric_columns:\n",
    "    plt.figure(figsize=(8, 6))\n",
    "    sns.boxplot(y=data[column])\n",
    "    plt.title(f'Boxplot der numerischen Attributs: {column}')\n",
    "    plt.ylabel(column)\n",
    "    plt.grid(True)\n",
    "    plt.show()\n",
    "\n",
    "# Kategoriale Attribute - Häufigkeitsverteilungen\n",
    "categorical_columns = data.select_dtypes(include='object').columns\n",
    "\n",
    "for column in categorical_columns:\n",
    "    plt.figure(figsize=(10, 5))\n",
    "    data[column].value_counts().plot(kind='bar')\n",
    "    plt.title(f'Häufigkeitsverteilung von {column}')\n",
    "    plt.xlabel(column)\n",
    "    plt.ylabel('Häufigkeit')\n",
    "    plt.grid(True)\n",
    "    plt.show()\n"
   ]
  },
  {
   "cell_type": "code",
   "execution_count": null,
   "id": "6266c179-51a4-4ec2-9c20-89e52e494128",
   "metadata": {},
   "outputs": [],
   "source": [
    "# Scatterplot für Elevation Gain und Distance basierend auf Bike Type\n",
    "\n",
    "plt.figure(figsize=(10, 6))\n",
    "colors = {'race bike': 'red', 'mtb': 'green', 'trecking bike': 'yellow'}\n",
    "sns.scatterplot(data=data, x='Elevation Gain', y='Distance', hue='Bike Type', palette=colors)\n",
    "plt.title('Scatterplot von Elevation Gain vs Distance für Bike Type')\n",
    "plt.xlabel('Elevation Gain')\n",
    "plt.ylabel('Distance')\n",
    "plt.grid(True)\n",
    "plt.show()"
   ]
  },
  {
   "cell_type": "code",
   "execution_count": null,
   "id": "fb2c1966-3379-4b86-b417-3ede92dfcd8b",
   "metadata": {},
   "outputs": [],
   "source": [
    "# Boxplots für Elevation Gain und Distance\n",
    "\n",
    "# Boxplot für Elevation Gain\n",
    "plt.figure(figsize=(12, 6))\n",
    "sns.boxplot(x='Bike Type', y='Elevation Gain', data=data, order=['race bike', 'mtb', 'trecking bike'])\n",
    "plt.title('Boxplot von Elevation Gain für Bike Types')\n",
    "plt.xlabel('Bike Type')\n",
    "plt.ylabel('Elevation Gain')\n",
    "plt.grid(True)\n",
    "plt.show()\n",
    "\n",
    "# Boxplot für Distance\n",
    "plt.figure(figsize=(12, 6))\n",
    "sns.boxplot(x='Bike Type', y='Distance', data=data, order=['race bike', 'mtb', 'trecking bike'])\n",
    "plt.title('Boxplot von Distance für Bike Types')\n",
    "plt.xlabel('Bike Type')\n",
    "plt.ylabel('Distance')\n",
    "plt.grid(True)\n",
    "plt.show()"
   ]
  },
  {
   "cell_type": "markdown",
   "id": "5a0ef810-9c08-44c3-ac55-ddfc2c9f7c98",
   "metadata": {},
   "source": [
    "## Aufgabenteil 1: Bayes Netze\n",
    "Entwerfen Sie ein KI Modell auf Basis der Bayes Netze und setzen Sie dieses\n",
    "als Jupyter Notebook um. Insbesondere wird eine geeignete Netzarchitektur und ein\n",
    "Vorschlag für eine plausible Wahrscheinlichkeitsverteilung benötigt."
   ]
  },
  {
   "cell_type": "code",
   "execution_count": null,
   "id": "91ea47db-8496-4f6e-842a-3599196074a4",
   "metadata": {},
   "outputs": [],
   "source": [
    "# !pip install pgmpy \n",
    "\n",
    "from pgmpy.models import BayesianNetwork\n",
    "from pgmpy.factors.discrete import TabularCPD\n"
   ]
  },
  {
   "cell_type": "markdown",
   "id": "bfbe3e4a-527f-4ca9-9346-674ba0ec380c",
   "metadata": {},
   "source": [
    "### 1. Modell anlegen\n",
    "\n",
    "Dies enthält zunächst die (kausalen) Abhängigkeiten."
   ]
  },
  {
   "cell_type": "code",
   "execution_count": null,
   "id": "fad5b58e-8b6f-4ef6-83ae-c2903fba2a63",
   "metadata": {},
   "outputs": [],
   "source": [
    "\n",
    "# Modell ersetzen durch eigenes für diese Aufgabe\n",
    "\n",
    "# (Beispiel : Emotionserkennung - aus Übungslabor)\n",
    "\n",
    "model = BayesianNetwork([('Angst','Sprechgeschwindigkeit'), \n",
    "                         ('Ekel','Sprechgeschwindigkeit' ),\n",
    "                         ('Wut','Sprechgeschwindigkeit' ),\n",
    "                         ('Freude','Sprechgeschwindigkeit'),\n",
    "                         ('Traurigkeit','Sprechgeschwindigkeit')])"
   ]
  },
  {
   "cell_type": "markdown",
   "id": "d9223529-44cf-401a-b885-4495e6c5cca2",
   "metadata": {},
   "source": [
    "### Begründung zum Modell\n",
    "\n",
    "<...Ihr Text...>"
   ]
  },
  {
   "cell_type": "markdown",
   "id": "1dd2ef5b-9911-4cbf-8cc2-1bc63fa98821",
   "metadata": {},
   "source": [
    "### 2. CPTs anlegen\n",
    "\n",
    "Das ist der Kern des Bayes'schen Netzes. Die CPTs können aus Daten gewonnen werden, sofern viele da sind. Ansonsten ist zusätzlich Hintergrundwissen und Schätzung zu verwenden."
   ]
  },
  {
   "cell_type": "code",
   "execution_count": null,
   "id": "7633ea0b-666a-4d8c-b8d0-78e8b13f0d39",
   "metadata": {},
   "outputs": [],
   "source": [
    "# Beispiel aus dem Übungslabor - ersetzen Sie dies durch eigene Berechnungen für die CPTs\n",
    "\n",
    "import numpy as np\n",
    "\n",
    "#logisch = 1. wahrscheinlichkeit ... wählbar.\n",
    "x = 1.0\n",
    "\n",
    "values = []\n",
    "\n",
    "# Durchlaufe alle 32 Kombinationen der Eltern\n",
    "for tra in [0, 1]:  # Traurigkeit: 0 = 'nein', 1 = 'ja'\n",
    "    for ang in [0, 1]:  # Angst: 0 = 'nein', 1 = 'ja'\n",
    "        for ek in [0, 1]:  # Ekel: 0 = 'nein', 1 = 'ja'\n",
    "            for wu in [0, 1]:  # Wut: 0 = 'nein', 1 = 'ja'\n",
    "                for fr in [0, 1]:  # Freude: 0 = 'nein', 1 = 'ja'\n",
    "                    if tra == 1:  # Wenn Traurigkeit = 'ja'\n",
    "                        # Wenn Traurigkeit gegeben ist, wird 'langsam' auf x und 'schnell' auf 1-x gesetzt\n",
    "                        values.append([1-x, x]) \n",
    "                    else:  # Wenn Traurigkeit = 'nein'\n",
    "                        # Wenn Angst, Ekel, Wut oder Freude gegeben ist, wird 'schnell' auf x und 'langsam' auf 1-x gesetzt\n",
    "                        if ang == 1 or ek == 1 or wu == 1 or fr == 1:\n",
    "                            values.append([x, 1-x])  # [langsam=1-x, schnell=x]\n",
    "                        else:\n",
    "                            values.append([0.5, 0.5])  # Unwissenheit -> beide 0.5\n",
    "\n",
    "values = np.array(values).T\n",
    "\n",
    "# CPD für Sprechgeschwindigkeit erstellen\n",
    "cpd_Sprechgeschwindigkeit = TabularCPD(\n",
    "    variable='Sprechgeschwindigkeit', variable_card=2,\n",
    "    values=values,  # Wahrscheinlichkeiten für jede Kombination von Eltern\n",
    "    evidence=['Traurigkeit', 'Angst', 'Ekel', 'Wut', 'Freude'],\n",
    "    evidence_card=[2, 2, 2, 2, 2],\n",
    "    state_names={'Sprechgeschwindigkeit':['schnell','langsam'],\n",
    "                 'Angst': ['nein','ja'],\n",
    "                 'Ekel': ['nein','ja'],\n",
    "                 'Wut': ['nein','ja'],\n",
    "                 'Freude': ['nein','ja'],\n",
    "                 'Traurigkeit': ['nein','ja']\n",
    "                })\n",
    "\n",
    "model.add_cpds(cpd_Sprechgeschwindigkeit, cpd_Angst, cpd_Wut, cpd_Freude, cpd_Ekel, cpd_Traurigkeit)\n",
    "\n",
    "model.check_model()"
   ]
  },
  {
   "cell_type": "markdown",
   "id": "b7fd788c-3a7e-4458-a93f-83baad2f9250",
   "metadata": {},
   "source": [
    "### Begründung zur Füllung der CPTs\n",
    "\n",
    "<...Ihr Text...>"
   ]
  },
  {
   "cell_type": "markdown",
   "id": "d392954e-f1b6-4dce-8f54-f4db80c1b943",
   "metadata": {},
   "source": [
    "### 3. Inferenz\n",
    "\n",
    "Nutzen Sie nun die Inferenz der Bayes Netze um die Klassifikation durchzuführen.\n"
   ]
  },
  {
   "cell_type": "code",
   "execution_count": null,
   "id": "fc812d74-43da-4191-8d0a-6099c080095b",
   "metadata": {},
   "outputs": [],
   "source": [
    "# Beispielcode aus dem Übungslabor - ersetzen Sie dies durch geeigneten eigenen (umfangreicheren) Code\n",
    "\n",
    "from pgmpy.inference import VariableElimination\n",
    "\n",
    "infer = VariableElimination(model)\n",
    "\n",
    "distrib = infer.query(['Angst'])\n",
    "print(distrib)"
   ]
  },
  {
   "cell_type": "markdown",
   "id": "51deb261-99d5-460b-a3f4-25d63c188c21",
   "metadata": {},
   "source": [
    "### 4. Test und Bewertung \n",
    "\n",
    "Testen Sie die Funktionsweise Ihres Netzes und diskutieren Sie die Ergebnisse."
   ]
  },
  {
   "cell_type": "code",
   "execution_count": null,
   "id": "865cedbb-56b0-4f39-aab2-d074749a4447",
   "metadata": {},
   "outputs": [],
   "source": [
    "# Ihr Code\n",
    "\n"
   ]
  },
  {
   "cell_type": "markdown",
   "id": "888b2521-2053-44cb-9d71-7609afc619f4",
   "metadata": {},
   "source": [
    "### Diskussion der Ergebnisse \n",
    "\n",
    "<...Ihr Text...>"
   ]
  },
  {
   "cell_type": "markdown",
   "id": "61da6d54-f2e9-4a24-b8ec-fd8f1d406300",
   "metadata": {},
   "source": [
    "## Aufgabenteil 2: Case Based Reasoning\n",
    "\n",
    "Entwerfen Sie ein KI Modell auf Basis von Case Based Reasoning und setzen\n",
    "Sie dieses als Jupyter Notebook um. Wählen Sie geeignete Vorgehensweisen um die Fallbasis\n",
    "aufzubauen (CBL) und geeignete Ähnlichkeitsmaße."
   ]
  },
  {
   "cell_type": "markdown",
   "id": "3036b50e-cb0e-4fb5-b3fd-6a5e796a4eb4",
   "metadata": {},
   "source": [
    "### 1. Ähnlichkeitsmaß definieren\n",
    "\n",
    "Entwerfen Sie ein zur Aufgabenstellung passendes und geeignetes Ähnlichkeitsmaß."
   ]
  },
  {
   "cell_type": "code",
   "execution_count": null,
   "id": "082e6b3c-5a45-461a-b73e-9377d6293830",
   "metadata": {},
   "outputs": [],
   "source": [
    "# Beispiel - hier soll Ihr Code eingefügt werden\n",
    "\n",
    "def aehnlichkeit(person1, person2):\n",
    "    \"\"\"\n",
    "    Berechnet die Ähnlichkeit zwischen zwei Personen.\n",
    "\n",
    "    Args:\n",
    "        person1: Eine Zeile des Datensatzes als Dictionary.\n",
    "        person2: Eine Zeile des Datensatzes als Dictionary.\n",
    "\n",
    "    Returns:\n",
    "        float: Ein Wert zwischen 0 und 1, der die Ähnlichkeit angibt.\n",
    "    \"\"\"\n",
    "\n",
    "    aehnlichkeit = 1.0\n",
    "\n",
    "    return aehnlichkeit"
   ]
  },
  {
   "cell_type": "markdown",
   "id": "751f9878-6015-4d63-b6de-2ee761238276",
   "metadata": {},
   "source": [
    "### Begründung zur Wahl des Ähnlichkeitsmaßes\n",
    "\n",
    "<...Ihr Text...>"
   ]
  },
  {
   "cell_type": "markdown",
   "id": "b528963d-87af-45c1-b6a4-869b4566d4cf",
   "metadata": {},
   "source": [
    "### 2. CBR Zyklus umsetzen\n",
    "\n",
    "Zunächst wird RETRIEVE benötigt. Dann sollte geprüft werden ob das Ergebnis bereits ausreicht. Wenn nicht, sollte geprüft werden, ob man die Daten in die Fallbasis aufnimmt. Die Fallbasis ist klein zu halten."
   ]
  },
  {
   "cell_type": "code",
   "execution_count": null,
   "id": "b839035b-5aab-473f-b418-0747a91a78f0",
   "metadata": {},
   "outputs": [],
   "source": [
    "# Beispiel aus dem Übungslabor - durch eigene Lösung zu ersetzen\n",
    "\n",
    "def finde_aehnlichsten_fall(df, person_zu_vergleichen):\n",
    "    \"\"\"\n",
    "    Findet die Person im DataFrame, die die größte Ähnlichkeit zur gegebenen Person hat.\n",
    "\n",
    "    Args:\n",
    "        df: Ein Pandas DataFrame mit den Personendaten.\n",
    "        person_zu_vergleichen: Ein Dictionary, das die Merkmale der Person zum Vergleich enthält.\n",
    "\n",
    "    Returns:\n",
    "        tuple: Ein Tupel mit (index, ähnlichkeit), wobei index der Index der ähnlichsten Person im DataFrame und ähnlichkeit der Ähnlichkeitswert ist.\n",
    "    \"\"\"\n",
    "\n",
    "    max_aehnlichkeit = -1\n",
    "    index_aehlichste_person = -1\n",
    "\n",
    "    for i, row in df.iterrows():\n",
    "        person_im_df = row.to_dict()\n",
    "\n",
    "        a = aehnlichkeit(person_zu_vergleichen, person_im_df)\n",
    "\n",
    "        if a > max_aehnlichkeit:\n",
    "            max_aehnlichkeit = a\n",
    "            index_aehlichste_person = i\n",
    "            aehnlichster_datensatz = row\n",
    "\n",
    "    return index_aehlichste_person, max_aehnlichkeit, aehnlichster_datensatz"
   ]
  },
  {
   "cell_type": "code",
   "execution_count": null,
   "id": "25e50b5e-aa99-4a4a-a67b-786fb889bed9",
   "metadata": {},
   "outputs": [],
   "source": [
    "# CBL umsetzen (vgl. Übungslabor)\n",
    "\n"
   ]
  },
  {
   "cell_type": "markdown",
   "id": "98c29e7c-3f61-447f-a10b-4dedad692eb1",
   "metadata": {},
   "source": [
    "### Begründungen \n",
    "\n",
    "<...Ihr Text...>"
   ]
  },
  {
   "cell_type": "markdown",
   "id": "f6fdfb8b-a06b-4a97-bd0d-6fa27116f62c",
   "metadata": {},
   "source": [
    "### 3. Test und Bewertung\n",
    "\n",
    "Wie gut ist der Klassifikator? Prüfen Sie Ihre Konfiguration (u.a. abhängig von Ähnlichkeitsfunktion) und testen Sie geeignet. "
   ]
  },
  {
   "cell_type": "code",
   "execution_count": null,
   "id": "abc179c7-40f5-4678-a290-478319aa887b",
   "metadata": {},
   "outputs": [],
   "source": [
    "# Ihr Code\n"
   ]
  },
  {
   "cell_type": "markdown",
   "id": "af7cc565-b829-470c-b68e-3c74621b9191",
   "metadata": {},
   "source": [
    "### Diskussion der Ergebnisse \n",
    "\n",
    "<...Ihr Text...>"
   ]
  },
  {
   "cell_type": "markdown",
   "id": "00a7dbee-a08e-41e6-9665-bf2cd2a7b8e2",
   "metadata": {},
   "source": [
    "# Abschluss\n",
    "\n",
    "Vergleich der beiden Verfahren. Ggf. ist hier noch Code zum Vergleich zu ergänzen, ansonsten weitgehend durch Text."
   ]
  },
  {
   "cell_type": "markdown",
   "id": "08ca89af-081e-47ea-be6a-d4aef52bf6ea",
   "metadata": {},
   "source": [
    "<...Ihr Text...>"
   ]
  }
 ],
 "metadata": {
  "kernelspec": {
   "display_name": "Python 3",
   "language": "python",
   "name": "python3"
  },
  "language_info": {
   "codemirror_mode": {
    "name": "ipython",
    "version": 3
   },
   "file_extension": ".py",
   "mimetype": "text/x-python",
   "name": "python",
   "nbconvert_exporter": "python",
   "pygments_lexer": "ipython3",
   "version": "3.8.5"
  }
 },
 "nbformat": 4,
 "nbformat_minor": 5
}
